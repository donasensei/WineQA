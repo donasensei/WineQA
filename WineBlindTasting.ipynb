{
 "cells": [
  {
   "cell_type": "code",
   "execution_count": 73,
   "id": "c1274c85",
   "metadata": {},
   "outputs": [],
   "source": [
    "import numpy as np\n",
    "import pandas as pd\n",
    "import matplotlib.pyplot as plt\n",
    "import seaborn as sns\n",
    "import statsmodels.formula.api as smf\n",
    "from sklearn.model_selection import train_test_split\n",
    "from sklearn.ensemble import RandomForestClassifier\n",
    "from sklearn.metrics import accuracy_score\n",
    "from sklearn.utils import shuffle\n",
    "from sklearn.preprocessing import LabelEncoder"
   ]
  },
  {
   "cell_type": "code",
   "execution_count": 74,
   "id": "e1c89102",
   "metadata": {},
   "outputs": [
    {
     "name": "stdout",
     "output_type": "stream",
     "text": [
      "       Unnamed: 0    country  \\\n",
      "77718       77718  Australia   \n",
      "67681       67681     France   \n",
      "69877       69877      Spain   \n",
      "46544       46544         US   \n",
      "186           186         US   \n",
      "\n",
      "                                             description  \\\n",
      "77718  Possibly a little sweet, this is a soft, easyg...   \n",
      "67681  A soft, almost off dry wine that is full in th...   \n",
      "69877  Generic white-fruit aromas of peach and apple ...   \n",
      "46544  This is the winery's best Nebula in years. Whi...   \n",
      "186    This is a very rich Pinot whose primary virtue...   \n",
      "\n",
      "                  designation  points  price         province  \\\n",
      "77718                     NaN      83    5.0  Australia Other   \n",
      "67681                 Réserve      85   12.0     Rhône Valley   \n",
      "69877  Estate Grown & Bottled      86    9.0   Northern Spain   \n",
      "46544                  Nebula      87   29.0       California   \n",
      "186            Wiley Vineyard      88   40.0       California   \n",
      "\n",
      "                      region_1       region_2        taster_name  \\\n",
      "77718  South Eastern Australia            NaN     Joe Czerwinski   \n",
      "67681           Côtes du Rhône            NaN         Roger Voss   \n",
      "69877                    Rueda            NaN  Michael Schachner   \n",
      "46544              Paso Robles  Central Coast                NaN   \n",
      "186            Anderson Valley            NaN                NaN   \n",
      "\n",
      "      taster_twitter_handle  \\\n",
      "77718                @JoeCz   \n",
      "67681            @vossroger   \n",
      "69877           @wineschach   \n",
      "46544                   NaN   \n",
      "186                     NaN   \n",
      "\n",
      "                                                   title             variety  \\\n",
      "77718  Banrock Station 2006 Chardonnay (South Eastern...          Chardonnay   \n",
      "67681  Cellier des Dauphins 2015 Réserve Rosé (Côtes ...                Rosé   \n",
      "69877  Esperanza 2013 Estate Grown & Bottled Verdejo-...       Verdejo-Viura   \n",
      "46544  Midnight 2010 Nebula Cabernet Sauvignon (Paso ...  Cabernet Sauvignon   \n",
      "186    Harrington 2006 Wiley Vineyard Pinot Noir (And...          Pinot Noir   \n",
      "\n",
      "                     winery  \n",
      "77718       Banrock Station  \n",
      "67681  Cellier des Dauphins  \n",
      "69877             Esperanza  \n",
      "46544              Midnight  \n",
      "186              Harrington  \n"
     ]
    }
   ],
   "source": [
    "import pandas as pd\n",
    "from sklearn.utils import shuffle\n",
    "\n",
    "#  WineEnthusiast의 와인 블라인드 테이스팅 데이터\n",
    "\n",
    "# points: WineEnthusiast가 와인을 1-100의 척도로 평가한 점수\n",
    "\n",
    "# 데이터셋 파일 경로\n",
    "data_file = \"winemag-data-130k-v2.csv\"\n",
    "\n",
    "# 원본 데이터셋 로드\n",
    "original_data = pd.read_csv(data_file)\n",
    "\n",
    "# 데이터셋을 무작위로 샘플링하여 새로운 데이터셋 생성\n",
    "sample_size = 20000 \n",
    "# 샘플링할 데이터의 크기\n",
    "reviews = original_data.sample(n=sample_size, random_state=42)\n",
    "\n",
    "# 샘플링된 데이터셋 출력\n",
    "print(reviews.head())"
   ]
  },
  {
   "cell_type": "code",
   "execution_count": 76,
   "id": "042cd194",
   "metadata": {},
   "outputs": [
    {
     "name": "stdout",
     "output_type": "stream",
     "text": [
      "(20000, 14)\n"
     ]
    },
    {
     "data": {
      "text/html": [
       "<div>\n",
       "<style scoped>\n",
       "    .dataframe tbody tr th:only-of-type {\n",
       "        vertical-align: middle;\n",
       "    }\n",
       "\n",
       "    .dataframe tbody tr th {\n",
       "        vertical-align: top;\n",
       "    }\n",
       "\n",
       "    .dataframe thead th {\n",
       "        text-align: right;\n",
       "    }\n",
       "</style>\n",
       "<table border=\"1\" class=\"dataframe\">\n",
       "  <thead>\n",
       "    <tr style=\"text-align: right;\">\n",
       "      <th></th>\n",
       "      <th>Unnamed: 0</th>\n",
       "      <th>country</th>\n",
       "      <th>description</th>\n",
       "      <th>designation</th>\n",
       "      <th>points</th>\n",
       "      <th>price</th>\n",
       "      <th>province</th>\n",
       "      <th>region_1</th>\n",
       "      <th>region_2</th>\n",
       "      <th>taster_name</th>\n",
       "      <th>taster_twitter_handle</th>\n",
       "      <th>title</th>\n",
       "      <th>variety</th>\n",
       "      <th>winery</th>\n",
       "    </tr>\n",
       "  </thead>\n",
       "  <tbody>\n",
       "    <tr>\n",
       "      <th>77718</th>\n",
       "      <td>77718</td>\n",
       "      <td>Australia</td>\n",
       "      <td>Possibly a little sweet, this is a soft, easyg...</td>\n",
       "      <td>NaN</td>\n",
       "      <td>83</td>\n",
       "      <td>5.0</td>\n",
       "      <td>Australia Other</td>\n",
       "      <td>South Eastern Australia</td>\n",
       "      <td>NaN</td>\n",
       "      <td>Joe Czerwinski</td>\n",
       "      <td>@JoeCz</td>\n",
       "      <td>Banrock Station 2006 Chardonnay (South Eastern...</td>\n",
       "      <td>Chardonnay</td>\n",
       "      <td>Banrock Station</td>\n",
       "    </tr>\n",
       "    <tr>\n",
       "      <th>67681</th>\n",
       "      <td>67681</td>\n",
       "      <td>France</td>\n",
       "      <td>A soft, almost off dry wine that is full in th...</td>\n",
       "      <td>Réserve</td>\n",
       "      <td>85</td>\n",
       "      <td>12.0</td>\n",
       "      <td>Rhône Valley</td>\n",
       "      <td>Côtes du Rhône</td>\n",
       "      <td>NaN</td>\n",
       "      <td>Roger Voss</td>\n",
       "      <td>@vossroger</td>\n",
       "      <td>Cellier des Dauphins 2015 Réserve Rosé (Côtes ...</td>\n",
       "      <td>Rosé</td>\n",
       "      <td>Cellier des Dauphins</td>\n",
       "    </tr>\n",
       "    <tr>\n",
       "      <th>69877</th>\n",
       "      <td>69877</td>\n",
       "      <td>Spain</td>\n",
       "      <td>Generic white-fruit aromas of peach and apple ...</td>\n",
       "      <td>Estate Grown &amp; Bottled</td>\n",
       "      <td>86</td>\n",
       "      <td>9.0</td>\n",
       "      <td>Northern Spain</td>\n",
       "      <td>Rueda</td>\n",
       "      <td>NaN</td>\n",
       "      <td>Michael Schachner</td>\n",
       "      <td>@wineschach</td>\n",
       "      <td>Esperanza 2013 Estate Grown &amp; Bottled Verdejo-...</td>\n",
       "      <td>Verdejo-Viura</td>\n",
       "      <td>Esperanza</td>\n",
       "    </tr>\n",
       "    <tr>\n",
       "      <th>46544</th>\n",
       "      <td>46544</td>\n",
       "      <td>US</td>\n",
       "      <td>This is the winery's best Nebula in years. Whi...</td>\n",
       "      <td>Nebula</td>\n",
       "      <td>87</td>\n",
       "      <td>29.0</td>\n",
       "      <td>California</td>\n",
       "      <td>Paso Robles</td>\n",
       "      <td>Central Coast</td>\n",
       "      <td>NaN</td>\n",
       "      <td>NaN</td>\n",
       "      <td>Midnight 2010 Nebula Cabernet Sauvignon (Paso ...</td>\n",
       "      <td>Cabernet Sauvignon</td>\n",
       "      <td>Midnight</td>\n",
       "    </tr>\n",
       "    <tr>\n",
       "      <th>186</th>\n",
       "      <td>186</td>\n",
       "      <td>US</td>\n",
       "      <td>This is a very rich Pinot whose primary virtue...</td>\n",
       "      <td>Wiley Vineyard</td>\n",
       "      <td>88</td>\n",
       "      <td>40.0</td>\n",
       "      <td>California</td>\n",
       "      <td>Anderson Valley</td>\n",
       "      <td>NaN</td>\n",
       "      <td>NaN</td>\n",
       "      <td>NaN</td>\n",
       "      <td>Harrington 2006 Wiley Vineyard Pinot Noir (And...</td>\n",
       "      <td>Pinot Noir</td>\n",
       "      <td>Harrington</td>\n",
       "    </tr>\n",
       "  </tbody>\n",
       "</table>\n",
       "</div>"
      ],
      "text/plain": [
       "       Unnamed: 0    country  \\\n",
       "77718       77718  Australia   \n",
       "67681       67681     France   \n",
       "69877       69877      Spain   \n",
       "46544       46544         US   \n",
       "186           186         US   \n",
       "\n",
       "                                             description  \\\n",
       "77718  Possibly a little sweet, this is a soft, easyg...   \n",
       "67681  A soft, almost off dry wine that is full in th...   \n",
       "69877  Generic white-fruit aromas of peach and apple ...   \n",
       "46544  This is the winery's best Nebula in years. Whi...   \n",
       "186    This is a very rich Pinot whose primary virtue...   \n",
       "\n",
       "                  designation  points  price         province  \\\n",
       "77718                     NaN      83    5.0  Australia Other   \n",
       "67681                 Réserve      85   12.0     Rhône Valley   \n",
       "69877  Estate Grown & Bottled      86    9.0   Northern Spain   \n",
       "46544                  Nebula      87   29.0       California   \n",
       "186            Wiley Vineyard      88   40.0       California   \n",
       "\n",
       "                      region_1       region_2        taster_name  \\\n",
       "77718  South Eastern Australia            NaN     Joe Czerwinski   \n",
       "67681           Côtes du Rhône            NaN         Roger Voss   \n",
       "69877                    Rueda            NaN  Michael Schachner   \n",
       "46544              Paso Robles  Central Coast                NaN   \n",
       "186            Anderson Valley            NaN                NaN   \n",
       "\n",
       "      taster_twitter_handle  \\\n",
       "77718                @JoeCz   \n",
       "67681            @vossroger   \n",
       "69877           @wineschach   \n",
       "46544                   NaN   \n",
       "186                     NaN   \n",
       "\n",
       "                                                   title             variety  \\\n",
       "77718  Banrock Station 2006 Chardonnay (South Eastern...          Chardonnay   \n",
       "67681  Cellier des Dauphins 2015 Réserve Rosé (Côtes ...                Rosé   \n",
       "69877  Esperanza 2013 Estate Grown & Bottled Verdejo-...       Verdejo-Viura   \n",
       "46544  Midnight 2010 Nebula Cabernet Sauvignon (Paso ...  Cabernet Sauvignon   \n",
       "186    Harrington 2006 Wiley Vineyard Pinot Noir (And...          Pinot Noir   \n",
       "\n",
       "                     winery  \n",
       "77718       Banrock Station  \n",
       "67681  Cellier des Dauphins  \n",
       "69877             Esperanza  \n",
       "46544              Midnight  \n",
       "186              Harrington  "
      ]
     },
     "execution_count": 76,
     "metadata": {},
     "output_type": "execute_result"
    }
   ],
   "source": [
    "print(reviews.shape)\n",
    "reviews.head()\n",
    "\n",
    "#'country': 와인이 생산된 국가\n",
    "#'description': 와인에 대한 텍스트 설명\n",
    "#'designation': 와인의 이름 또는 부가 정보\n",
    "#'points': 와인의 평가 점수\n",
    "#'price': 와인의 가격\n",
    "#'province': 와인이 생산된 지방 또는 주\n",
    "#'region_1': 와인의 지역 1\n",
    "#'region_2': 와인의 지역 2\n",
    "#'taster_name': 와인을 평가한 심사자 이름\n",
    "#'taster_twitter_handle': 와인을 평가한 심사자의 Twitter 핸들\n",
    "#'title': 와인의 제목\n",
    "#'variety': 와인의 품종\n",
    "#'winery': 와인을 생산한 와이너리"
   ]
  },
  {
   "cell_type": "code",
   "execution_count": 77,
   "id": "b87c248d",
   "metadata": {},
   "outputs": [
    {
     "data": {
      "text/plain": [
       "Index(['Unnamed: 0', 'country', 'description', 'designation', 'points',\n",
       "       'price', 'province', 'region_1', 'region_2', 'taster_name',\n",
       "       'taster_twitter_handle', 'title', 'variety', 'winery'],\n",
       "      dtype='object')"
      ]
     },
     "execution_count": 77,
     "metadata": {},
     "output_type": "execute_result"
    }
   ],
   "source": [
    "reviews.columns"
   ]
  },
  {
   "cell_type": "code",
   "execution_count": 78,
   "id": "8353d935",
   "metadata": {},
   "outputs": [
    {
     "data": {
      "text/html": [
       "<div>\n",
       "<style scoped>\n",
       "    .dataframe tbody tr th:only-of-type {\n",
       "        vertical-align: middle;\n",
       "    }\n",
       "\n",
       "    .dataframe tbody tr th {\n",
       "        vertical-align: top;\n",
       "    }\n",
       "\n",
       "    .dataframe thead th {\n",
       "        text-align: right;\n",
       "    }\n",
       "</style>\n",
       "<table border=\"1\" class=\"dataframe\">\n",
       "  <thead>\n",
       "    <tr style=\"text-align: right;\">\n",
       "      <th></th>\n",
       "      <th>Unnamed: 0</th>\n",
       "      <th>points</th>\n",
       "      <th>price</th>\n",
       "    </tr>\n",
       "  </thead>\n",
       "  <tbody>\n",
       "    <tr>\n",
       "      <th>count</th>\n",
       "      <td>20000.000000</td>\n",
       "      <td>20000.000000</td>\n",
       "      <td>18604.000000</td>\n",
       "    </tr>\n",
       "    <tr>\n",
       "      <th>mean</th>\n",
       "      <td>64650.461450</td>\n",
       "      <td>88.449300</td>\n",
       "      <td>35.422221</td>\n",
       "    </tr>\n",
       "    <tr>\n",
       "      <th>std</th>\n",
       "      <td>37418.357113</td>\n",
       "      <td>3.066464</td>\n",
       "      <td>41.903403</td>\n",
       "    </tr>\n",
       "    <tr>\n",
       "      <th>min</th>\n",
       "      <td>0.000000</td>\n",
       "      <td>80.000000</td>\n",
       "      <td>4.000000</td>\n",
       "    </tr>\n",
       "    <tr>\n",
       "      <th>25%</th>\n",
       "      <td>32533.000000</td>\n",
       "      <td>86.000000</td>\n",
       "      <td>17.000000</td>\n",
       "    </tr>\n",
       "    <tr>\n",
       "      <th>50%</th>\n",
       "      <td>64378.000000</td>\n",
       "      <td>88.000000</td>\n",
       "      <td>25.000000</td>\n",
       "    </tr>\n",
       "    <tr>\n",
       "      <th>75%</th>\n",
       "      <td>96924.500000</td>\n",
       "      <td>91.000000</td>\n",
       "      <td>42.000000</td>\n",
       "    </tr>\n",
       "    <tr>\n",
       "      <th>max</th>\n",
       "      <td>129966.000000</td>\n",
       "      <td>100.000000</td>\n",
       "      <td>2013.000000</td>\n",
       "    </tr>\n",
       "  </tbody>\n",
       "</table>\n",
       "</div>"
      ],
      "text/plain": [
       "          Unnamed: 0        points         price\n",
       "count   20000.000000  20000.000000  18604.000000\n",
       "mean    64650.461450     88.449300     35.422221\n",
       "std     37418.357113      3.066464     41.903403\n",
       "min         0.000000     80.000000      4.000000\n",
       "25%     32533.000000     86.000000     17.000000\n",
       "50%     64378.000000     88.000000     25.000000\n",
       "75%     96924.500000     91.000000     42.000000\n",
       "max    129966.000000    100.000000   2013.000000"
      ]
     },
     "execution_count": 78,
     "metadata": {},
     "output_type": "execute_result"
    }
   ],
   "source": [
    "reviews.describe()"
   ]
  },
  {
   "cell_type": "code",
   "execution_count": 79,
   "id": "68654e32",
   "metadata": {},
   "outputs": [],
   "source": [
    "# 특성 선택\n",
    "selected_features = ['country', 'province', 'variety', 'price']\n",
    "target = 'points'"
   ]
  },
  {
   "cell_type": "code",
   "execution_count": 80,
   "id": "cbc10d3c",
   "metadata": {},
   "outputs": [],
   "source": [
    "# 데이터 전처리\n",
    "\n",
    "# 필요한 특성과 타겟 변수만 추출\n",
    "data = reviews[selected_features + [target]].dropna()"
   ]
  },
  {
   "cell_type": "code",
   "execution_count": 81,
   "id": "423a9c0e",
   "metadata": {},
   "outputs": [],
   "source": [
    "# 범주형 변수를 더미 변수로 변환\n",
    "data = pd.get_dummies(data)"
   ]
  },
  {
   "cell_type": "code",
   "execution_count": 82,
   "id": "fa1dda56",
   "metadata": {},
   "outputs": [],
   "source": [
    "# 학습 데이터와 테스트 데이터 분할\n",
    "X = data.drop(target, axis=1)\n",
    "y = data[target]\n",
    "X_train, X_test, y_train, y_test = train_test_split(X, y, test_size=0.2, random_state=42)"
   ]
  },
  {
   "cell_type": "code",
   "execution_count": 83,
   "id": "4389a8d4",
   "metadata": {},
   "outputs": [
    {
     "data": {
      "text/plain": [
       "RandomForestClassifier(random_state=42)"
      ]
     },
     "execution_count": 83,
     "metadata": {},
     "output_type": "execute_result"
    }
   ],
   "source": [
    "# 모델 학습\n",
    "model = RandomForestClassifier(random_state=42)\n",
    "model.fit(X_train, y_train)"
   ]
  },
  {
   "cell_type": "code",
   "execution_count": 84,
   "id": "26f9d6f2",
   "metadata": {},
   "outputs": [],
   "source": [
    "# 모델 예측\n",
    "y_pred = model.predict(X_test)"
   ]
  },
  {
   "cell_type": "code",
   "execution_count": 85,
   "id": "d0a705d4",
   "metadata": {},
   "outputs": [
    {
     "name": "stdout",
     "output_type": "stream",
     "text": [
      "Accuracy: 0.16182795698924732\n"
     ]
    }
   ],
   "source": [
    "# 모델 평가\n",
    "accuracy = accuracy_score(y_test, y_pred)\n",
    "print('Accuracy:', accuracy)\n",
    "# 데이터셋에 대해 모델의 예측 정확도가 낮다."
   ]
  },
  {
   "cell_type": "code",
   "execution_count": 86,
   "id": "b14969bd",
   "metadata": {},
   "outputs": [],
   "source": [
    "#기존 분석 결과 어떻게 연관지어야할지 모르겠음.....\n",
    "# (와인 title, points 데이터)"
   ]
  },
  {
   "cell_type": "raw",
   "id": "96d0be57",
   "metadata": {},
   "source": [
    "지역별 와인 품질의 영향력을 평가하기 위해 Feature Importance와 회귀 분석을 활용\n",
    "#'province': 와인이 생산된 지방 또는 주\n",
    "#'region_1': 와인의 지역 1\n",
    "#'region_2': 와인의 지역 2"
   ]
  },
  {
   "cell_type": "code",
   "execution_count": 91,
   "id": "4d45fa8f",
   "metadata": {},
   "outputs": [],
   "source": [
    "# 데이터를 불러온다\n",
    "data_file = pd.read_csv(\"winemag-data-130k-v2.csv\", index_col=0)\n",
    "\n",
    "# 필요한 열만 선택한다\n",
    "selected_columns = ['province', 'region_1', 'region_2', 'points']\n",
    "data = data_file[selected_columns].copy()\n",
    "\n",
    "# 결측치를 제거한다\n",
    "data.dropna(inplace=True)"
   ]
  },
  {
   "cell_type": "code",
   "execution_count": 92,
   "id": "c40d29a3",
   "metadata": {},
   "outputs": [],
   "source": [
    "# LabelEncoder를 사용하여 범주형 변수를 숫자로 변환한다\n",
    "le = LabelEncoder()\n",
    "data['province_encoded'] = le.fit_transform(data['province'])\n",
    "data['region_encoded'] = data['region_2'].fillna(data['region_1'])  \n",
    "# region_2가 결측치인 경우 region_1로 대체\n",
    "data['region_encoded'] = le.fit_transform(data['region_encoded'])"
   ]
  },
  {
   "cell_type": "code",
   "execution_count": 93,
   "id": "5e41d1d5",
   "metadata": {},
   "outputs": [
    {
     "name": "stdout",
     "output_type": "stream",
     "text": [
      "province: 0.048534548597034634\n",
      "region: 0.9514654514029655\n"
     ]
    }
   ],
   "source": [
    "X = data[['province_encoded', 'region_encoded']]\n",
    "y = data['points']\n",
    "\n",
    "# 랜덤 포레스트 회귀 모델을 만든다\n",
    "rf = RandomForestRegressor(random_state=42)\n",
    "rf.fit(X, y)\n",
    "\n",
    "# Feature Importance를 추출한다\n",
    "importance = rf.feature_importances_\n",
    "feature_names = ['province', 'region']\n",
    "feature_importance = dict(zip(feature_names, importance))\n",
    "\n",
    "# Feature Importance를 출력한다\n",
    "for feature, importance in feature_importance.items():\n",
    "    print(f\"{feature}: {importance}\")"
   ]
  },
  {
   "cell_type": "code",
   "execution_count": null,
   "id": "1f3f83e0",
   "metadata": {},
   "outputs": [],
   "source": []
  }
 ],
 "metadata": {
  "kernelspec": {
   "display_name": "Python 3 (ipykernel)",
   "language": "python",
   "name": "python3"
  },
  "language_info": {
   "codemirror_mode": {
    "name": "ipython",
    "version": 3
   },
   "file_extension": ".py",
   "mimetype": "text/x-python",
   "name": "python",
   "nbconvert_exporter": "python",
   "pygments_lexer": "ipython3",
   "version": "3.9.13"
  }
 },
 "nbformat": 4,
 "nbformat_minor": 5
}
