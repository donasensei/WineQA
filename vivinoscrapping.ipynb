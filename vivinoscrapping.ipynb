{
 "cells": [
  {
   "cell_type": "code",
   "execution_count": 3,
   "id": "dc671112",
   "metadata": {},
   "outputs": [],
   "source": [
    "import numpy as np\n",
    "import urllib.parse\n",
    "import pandas as pd\n",
    "from selenium import webdriver\n",
    "from selenium.webdriver.common.by import By\n",
    "from selenium.webdriver.support.ui import WebDriverWait\n",
    "from selenium.webdriver.support import expected_conditions as EC\n",
    "from time import sleep"
   ]
  },
  {
   "cell_type": "code",
   "execution_count": null,
   "id": "0b6ec8a3",
   "metadata": {},
   "outputs": [
    {
     "name": "stderr",
     "output_type": "stream",
     "text": [
      "C:\\Users\\hyund\\AppData\\Local\\Temp\\ipykernel_7888\\2625680448.py:10: DtypeWarning: Columns (8,19,20) have mixed types. Specify dtype option on import or set low_memory=False.\n",
      "  wine = pd.read_csv('cleansingWine.csv')\n",
      "C:\\Users\\hyund\\AppData\\Local\\Temp\\ipykernel_7888\\2625680448.py:13: DeprecationWarning: executable_path has been deprecated, please pass in a Service object\n",
      "  driver = webdriver.Chrome(executable_path=r'C:/Users/hyund/Downloads/chromedriver.exe')\n"
     ]
    }
   ],
   "source": [
    "import urllib.parse\n",
    "import pandas as pd\n",
    "from selenium import webdriver\n",
    "from selenium.webdriver.common.by import By\n",
    "from selenium.webdriver.support.ui import WebDriverWait\n",
    "from selenium.webdriver.support import expected_conditions as EC\n",
    "from time import sleep\n",
    "\n",
    "# 데이터 불러오기\n",
    "wine = pd.read_csv('cleansingWine.csv') \n",
    "\n",
    "# WebDriver 설정\n",
    "driver = webdriver.Chrome(executable_path=r'C:/Users/hyund/Downloads/chromedriver.exe')\n",
    "\n",
    "# rating 저장을 위한 빈 리스트 생성\n",
    "rating_list = []\n",
    "\n",
    "# 처음 5개 와인에 대해서만 작업\n",
    "for index, row in wine.iterrows():\n",
    "    wine_name = row['name']\n",
    "    wine_nation = row['nation']\n",
    "    varieties1 = row['varieties1'] if pd.notnull(row['varieties1']) else ''\n",
    "    varieties2 = row['varieties2'] if pd.notnull(row['varieties2']) else ''\n",
    "\n",
    "    # wine_name, wine_nation, varieties1, varieties2, varieties3를 합친 후 URL 인코딩\n",
    "    query = urllib.parse.quote_plus(f\"{wine_name} {wine_nation} {varieties1} {varieties2}\")\n",
    "\n",
    "    # Vivino 검색 페이지로 이동\n",
    "    driver.get(f\"https://www.vivino.com/search/wines?q={query}\")\n",
    "\n",
    "    try:\n",
    "        # 와인의 평점이 로드될 때까지 최대 10초간 대기\n",
    "        rating = WebDriverWait(driver, 5).until(EC.presence_of_element_located((By.CSS_SELECTOR, '.text-inline-block.light.average__number')))\n",
    "\n",
    "        # 평점을 리스트에 추가\n",
    "        rating_list.append(float(rating.text))\n",
    "\n",
    "    except:\n",
    "        # 에러 발생 시 (예: 평점이 없는 와인), None을 리스트에 추가\n",
    "        rating_list.append(None)\n",
    "\n",
    "    # 페이지 로드를 위한 잠시 대기\n",
    "    sleep(1)\n",
    "\n",
    "# WebDriver 종료\n",
    "driver.quit()\n",
    "\n",
    "# rating 컬럼 생성\n",
    "wine['rating'] = pd.Series(rating_list)\n",
    "\n",
    "# 결과 확인\n",
    "print(wine.head())\n",
    "\n",
    "# wine_rating.csv 파일로 저장\n",
    "wine.to_csv('wine_rating.csv', index=False)"
   ]
  },
  {
   "cell_type": "code",
   "execution_count": null,
   "id": "5e9f8088",
   "metadata": {},
   "outputs": [],
   "source": []
  }
 ],
 "metadata": {
  "kernelspec": {
   "display_name": "Python 3 (ipykernel)",
   "language": "python",
   "name": "python3"
  },
  "language_info": {
   "codemirror_mode": {
    "name": "ipython",
    "version": 3
   },
   "file_extension": ".py",
   "mimetype": "text/x-python",
   "name": "python",
   "nbconvert_exporter": "python",
   "pygments_lexer": "ipython3",
   "version": "3.8.16"
  }
 },
 "nbformat": 4,
 "nbformat_minor": 5
}
